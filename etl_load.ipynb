{
 "cells": [
  {
   "cell_type": "code",
   "execution_count": 5,
   "id": "07aa80a0",
   "metadata": {},
   "outputs": [
    {
     "name": "stdout",
     "output_type": "stream",
     "text": [
      "Preview from full_data:\n",
      "   order_id customer_name product  quantity  unit_price  order_date region  \\\n",
      "0         1         Diana  Tablet       0.0       500.0  2024-01-20  South   \n",
      "1         2           Eve  Laptop       0.0         0.0  2024-04-29  North   \n",
      "2         3       Charlie  Laptop       2.0       250.0  2024-01-08   None   \n",
      "3         4           Eve  Laptop       2.0       750.0  2024-01-07   West   \n",
      "4         5           Eve  Tablet       3.0         0.0  2024-03-07  South   \n",
      "\n",
      "   total_price    tier  \n",
      "0          0.0     Low  \n",
      "1          0.0     Low  \n",
      "2        500.0     Low  \n",
      "3       1500.0  Medium  \n",
      "4          0.0     Low  \n"
     ]
    }
   ],
   "source": [
    "import pandas as pd\n",
    "import sqlite3\n",
    "import os\n",
    "\n",
    "# Step 1: Load the transformed CSV files\n",
    "full = pd.read_csv(\"transformed/transformed_full.csv\")\n",
    "inc = pd.read_csv(\"transformed/transformed_incremental.csv\")\n",
    "\n",
    "# Step 2: Make sure the 'loaded' folder exists\n",
    "os.makedirs(\"loaded\", exist_ok=True)\n",
    "\n",
    "# Step 3: Connect to SQLite databases\n",
    "full_db = sqlite3.connect(\"loaded/full_data.db\")\n",
    "inc_db = sqlite3.connect(\"loaded/incremental_data.db\")\n",
    "\n",
    "# Step 4: Save the DataFrames into the databases\n",
    "full.to_sql(\"full_data\", full_db, if_exists=\"replace\", index=False)\n",
    "inc.to_sql(\"incremental_data\", inc_db, if_exists=\"replace\", index=False)\n",
    "\n",
    "# Step 5: Preview first 5 rows from full_data table\n",
    "print(\"Preview from full_data:\")\n",
    "print(pd.read_sql(\"SELECT * FROM full_data LIMIT 5\", full_db))\n",
    "\n",
    "# Step 6: Close the database connections\n",
    "full_db.close()\n",
    "inc_db.close()\n"
   ]
  }
 ],
 "metadata": {
  "kernelspec": {
   "display_name": "Python 3",
   "language": "python",
   "name": "python3"
  },
  "language_info": {
   "codemirror_mode": {
    "name": "ipython",
    "version": 3
   },
   "file_extension": ".py",
   "mimetype": "text/x-python",
   "name": "python",
   "nbconvert_exporter": "python",
   "pygments_lexer": "ipython3",
   "version": "3.11.9"
  }
 },
 "nbformat": 4,
 "nbformat_minor": 5
}
